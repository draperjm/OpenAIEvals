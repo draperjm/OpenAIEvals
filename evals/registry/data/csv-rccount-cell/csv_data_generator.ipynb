{
 "cells": [
  {
   "cell_type": "code",
   "execution_count": 14,
   "metadata": {},
   "outputs": [],
   "source": [
    "import json\n",
    "import random\n",
    "import csv\n",
    "import io\n",
    "import string\n",
    "\n",
    "prompt_dict = {\n",
    "    \"generate\": \"You are a language model that only generates CSV strings with {x} rows and {y} columns with random text in every cell.\",\n",
    "    \"generate_fill\": '''You are a language model that only generates CSV strings with {x} rows and {y} columns with random text in every cell.\n",
    "                        For every cell in the {x} rows and {y} columns of the CSV string, fill with random text.''',\n",
    "    \"generate_fill_define\": '''You are a language model that only generates CSV strings with {x} rows and {y} columns with random text in every cell.\n",
    "                        For every cell in the {x} rows and {y} columns of the CSV string, fill with random text.\n",
    "                        Columns are separated by commas, rows are terminated by a new line, and each cell contains random text within quotation marks.'''\n",
    "}\n",
    "\n",
    "def generate_csv_eval_jsonl(num_prompts=50, \n",
    "                            num_rows=15, \n",
    "                            num_columns=15, \n",
    "                            prompt_text=\"Generate a CSV with {x} rows and {y} columns.\", \n",
    "                            output_file=\"csv_eval.jsonl\"):\n",
    "    \n",
    "    def random_string(length):\n",
    "        return ''.join(random.choice(string.ascii_letters) for _ in range(length))\n",
    "    \n",
    "    def generate_csv_string(rows, columns):\n",
    "        lines = []\n",
    "        for _ in range(rows):\n",
    "            row = [f'\"{random_string(random.randint(5, 15))}\"' for _ in range(columns)]\n",
    "            lines.append(','.join(row))\n",
    "        return '```' + '\\n'.join(lines) + '```'\n",
    "    \n",
    "    with open(output_file, 'w') as f:\n",
    "        for _ in range(num_prompts):\n",
    "            rows = random.randint(2, num_rows)\n",
    "            columns = random.randint(2, num_columns)\n",
    "            \n",
    "            prompt = prompt_text.format(x=rows, y=columns)\n",
    "            expected_output = generate_csv_string(rows, columns)\n",
    "            \n",
    "            json_line = json.dumps({\"prompt\": prompt, \"expected_output\": expected_output})\n",
    "            f.write(json_line + '\\n')\n",
    "\n",
    "\n",
    "for prompt_name, prompt_text in prompt_dict.items():\n",
    "    # Generate the JSONL file for the current prompt\n",
    "    jsonl_filename = f\"csv_{prompt_name}_eval.jsonl\"\n",
    "    generate_csv_eval_jsonl(num_prompts=2500, num_rows=15, num_columns=15, prompt_text=prompt_text, output_file=jsonl_filename)\n",
    "\n"
   ]
  }
 ],
 "metadata": {
  "kernelspec": {
   "display_name": "wsl",
   "language": "python",
   "name": "python3"
  },
  "language_info": {
   "codemirror_mode": {
    "name": "ipython",
    "version": 3
   },
   "file_extension": ".py",
   "mimetype": "text/x-python",
   "name": "python",
   "nbconvert_exporter": "python",
   "pygments_lexer": "ipython3",
   "version": "3.9.16"
  },
  "orig_nbformat": 4
 },
 "nbformat": 4,
 "nbformat_minor": 2
}
